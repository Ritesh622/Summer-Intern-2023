{
 "cells": [
  {
   "cell_type": "code",
   "execution_count": 1,
   "id": "96e5884c-ab40-4946-9707-29ff8408b8c9",
   "metadata": {},
   "outputs": [],
   "source": [
    "import numpy as np\n",
    "from scipy.linalg import hadamard\n",
    "from scipy.stats import bernoulli\n",
    "%matplotlib inline\n",
    "import matplotlib.pyplot as plt\n",
    "from tqdm import tqdm\n",
    "from torch.utils.tensorboard import SummaryWriter"
   ]
  },
  {
   "cell_type": "code",
   "execution_count": 2,
   "id": "3f344440-f55d-49f8-a1c6-dd800f26d347",
   "metadata": {},
   "outputs": [],
   "source": [
    "N = 8\n",
    "D = 32\n",
    "ITERS = 64\n",
    "X = np.random.randn(N, ITERS, D)"
   ]
  },
  {
   "cell_type": "code",
   "execution_count": 3,
   "id": "0c7183d7-188f-4569-be76-84265c988f15",
   "metadata": {},
   "outputs": [],
   "source": [
    "writer = SummaryWriter()"
   ]
  },
  {
   "cell_type": "markdown",
   "id": "a19d83fd-f886-4650-b11b-8849f4110872",
   "metadata": {},
   "source": [
    "# Stochastic K-Level Quantization"
   ]
  },
  {
   "cell_type": "code",
   "execution_count": 4,
   "id": "f9363992-2bd1-4880-a490-09fe700f304b",
   "metadata": {},
   "outputs": [],
   "source": [
    "def Bi_k(xi_mins, xi_maxs, k):\n",
    "    si = xi_maxs - xi_mins\n",
    "    arr = np.arange(k)*(si/(k-1))\n",
    "    return xi_mins + arr\n",
    "\n",
    "def encoder_k(xi, bi, iters, d, k):\n",
    "    brs = np.zeros((iters, d, 2))\n",
    "    \n",
    "    for i in range(iters):\n",
    "        ids = np.searchsorted(bi[i], xi[i], side='right')-1\n",
    "        idid = np.vstack((ids, ids+1)).T\n",
    "        idid[idid==k] = k-1\n",
    "        brs[i] = bi[i][idid]\n",
    "        \n",
    "    probs = np.where(\n",
    "        ((brs[..., 1] - brs[..., 0]) != 0), \n",
    "        np.divide((xi - brs[..., 0]),(brs[..., 1]- brs[..., 0] + (1e-100))), \n",
    "        0\n",
    "    )\n",
    "    \n",
    "    return bernoulli.rvs(probs), brs\n",
    "\n",
    "def decoder_k(enc, brs):\n",
    "    return np.where(\n",
    "        enc==1,  brs[..., 1], brs[..., 0]\n",
    "    )"
   ]
  },
  {
   "cell_type": "code",
   "execution_count": 5,
   "id": "c1ccc746-1d2c-455f-b541-ed0856f8e69f",
   "metadata": {},
   "outputs": [],
   "source": [
    "def sto_k(k, n=N, d=D, ITERS=ITERS, X=X):\n",
    "    # X = np.random.rand(n, ITERS, d)\n",
    "        \n",
    "    Y = np.zeros((ITERS, d))\n",
    "    \n",
    "    for xi in X:\n",
    "        xi_maxs = np.max(xi, axis=1, keepdims=True)\n",
    "        xi_mins = np.min(xi, axis=1, keepdims=True)\n",
    "        \n",
    "        bi = Bi_k(xi_maxs=xi_maxs, xi_mins=xi_mins, k=k)\n",
    "\n",
    "        encs, brs = encoder_k(xi=xi, bi=bi, k=k,\n",
    "                            iters=ITERS, d=d)\n",
    "\n",
    "        yi = decoder_k(encs, brs)\n",
    "        Y += yi\n",
    "    x_hat_mean = Y/n \n",
    "    x_mean = np.mean(X, axis=0)\n",
    "\n",
    "    error_obs = np.mean((np.linalg.norm((x_mean - x_hat_mean), axis=1)**2))\n",
    "    return error_obs"
   ]
  },
  {
   "cell_type": "code",
   "execution_count": null,
   "id": "0df59241-2c99-4bcd-97ce-87eec74ebddb",
   "metadata": {},
   "outputs": [],
   "source": []
  },
  {
   "cell_type": "markdown",
   "id": "8bd4c834-968a-4959-b58b-f428475b39b5",
   "metadata": {},
   "source": [
    "# Stochastic Rotation Quantization"
   ]
  },
  {
   "cell_type": "code",
   "execution_count": 6,
   "id": "4af2fb49-1d83-40b7-a2ff-3f442e268d79",
   "metadata": {},
   "outputs": [],
   "source": [
    "def Bi_rot(zi_mins, zi_maxs, k):\n",
    "    si = zi_maxs - zi_mins\n",
    "    arr = np.arange(k)*(si/(k-1))\n",
    "    return zi_mins + arr\n",
    "\n",
    "def encoder_rot(zi, bi, iters, d, k):\n",
    "    brs = np.zeros((iters, d, 2))\n",
    "    \n",
    "    for i in range(iters):\n",
    "        ids = np.searchsorted(bi[i], zi[i], side='right')-1\n",
    "        idid = np.vstack((ids, ids+1)).T\n",
    "        idid[idid==k] = k-1\n",
    "        brs[i] = bi[i][idid]\n",
    "        \n",
    "    probs = np.where(\n",
    "        ((brs[..., 1] - brs[..., 0]) != 0), \n",
    "        np.divide((zi - brs[..., 0]),(brs[..., 1]- brs[..., 0] + (1e-100))), \n",
    "        0\n",
    "    )\n",
    "    \n",
    "    return bernoulli.rvs(probs), brs\n",
    "\n",
    "def decoder_rot(enc, brs):\n",
    "    return np.where(\n",
    "        enc==1,  brs[..., 1], brs[..., 0]\n",
    "    )"
   ]
  },
  {
   "cell_type": "code",
   "execution_count": 7,
   "id": "461e7eaf-b891-4efc-a6bf-d5b41fd32c41",
   "metadata": {},
   "outputs": [],
   "source": [
    "def sto_rot(k, n=N, d=D, ITERS=ITERS, X=X):\n",
    "    # X = np.random.rand(n, ITERS, d)\n",
    "    \n",
    "    R = hadamard(d) @ np.diag(\n",
    "        np.random.choice([1, -1], size=d, p=[0.5, 0.5])\n",
    "    ) / np.sqrt(d)\n",
    "    \n",
    "    assert np.allclose(np.eye(d), R @ R.T), \"R is not orthogonal.\"\n",
    "    \n",
    "    Y = np.zeros((ITERS, d))\n",
    "    \n",
    "    for xi in X:\n",
    "        zi = np.transpose(R @ xi.T)\n",
    "        assert np.allclose(\n",
    "            np.linalg.norm(zi),\n",
    "            np.linalg.norm(xi)\n",
    "        ), \"l2 norm zi != l2 norm xi\"\n",
    "        \n",
    "        zi_maxs = np.max(zi, axis=1, keepdims=True)\n",
    "        zi_mins = np.min(zi, axis=1, keepdims=True)\n",
    "\n",
    "        bi = Bi_rot(zi_maxs=zi_maxs, zi_mins=zi_mins, k=k)\n",
    "\n",
    "        encs, brs = encoder_rot(zi=zi, bi=bi, k=k,\n",
    "                            iters=ITERS, d=d)\n",
    "\n",
    "        yi = decoder_rot(encs, brs)\n",
    "        \n",
    "        Y += yi\n",
    "    Z_hat_mean = Y/n \n",
    "    x_hat_mean = np.transpose(np.linalg.inv(R) @ Z_hat_mean.T)\n",
    "    x_mean = np.mean(X, axis=0)\n",
    "\n",
    "    error_obs = np.mean((np.linalg.norm((x_mean - x_hat_mean), axis=1)**2))\n",
    "    return error_obs"
   ]
  },
  {
   "cell_type": "code",
   "execution_count": 8,
   "id": "1e04be1b-e48e-431f-bf45-61ee935a93b9",
   "metadata": {},
   "outputs": [],
   "source": [
    "num_k = np.arange(2, 7)\n",
    "k_mse = np.zeros_like(num_k, dtype=np.float32)\n",
    "rot_mse = np.zeros_like(num_k, dtype=np.float32)"
   ]
  },
  {
   "cell_type": "code",
   "execution_count": 9,
   "id": "f15a7f2e-3be1-4f69-8f2d-dd9df740ccfb",
   "metadata": {},
   "outputs": [
    {
     "name": "stderr",
     "output_type": "stream",
     "text": [
      "100%|████████████████████████████████████████████████████████████████| 5/5 [00:00<00:00, 31.68it/s]\n"
     ]
    }
   ],
   "source": [
    "for i, k in enumerate(tqdm(num_k)):\n",
    "    k_mse[i] = sto_k(k=k)\n",
    "    rot_mse[i] = sto_rot(k=k)\n",
    "    \n",
    "    # adding to tensorboard\n",
    "    writer.add_scalars(\"MSE\", {\n",
    "        \"sto_k\": k_mse[i],\n",
    "        \"sto_rot\": rot_mse[i]\n",
    "    }, k)\n"
   ]
  },
  {
   "cell_type": "code",
   "execution_count": 15,
   "id": "9f2be873-924c-431e-bab5-b852815f5f67",
   "metadata": {},
   "outputs": [
    {
     "data": {
      "image/png": "[encoded data removed]",
      "text/plain": [
       "<Figure size 640x480 with 1 Axes>"
      ]
     },
     "metadata": {},
     "output_type": "display_data"
    }
   ],
   "source": [
    "plt.plot(num_k, np.log(k_mse),  'b', label='k level')\n",
    "plt.plot(num_k, np.log(rot_mse), 'r', label='rotation')\n",
    "plt.legend()\n",
    "plt.title(\"log(MSE) vs K\")\n",
    "plt.xlabel(\"k\")\n",
    "plt.ylabel('log(MSE)')\n",
    "plt.tight_layout()\n",
    "plt.show()"
   ]
  },
  {
   "cell_type": "code",
   "execution_count": null,
   "id": "1ea0b3d3-dcc3-491d-8cb1-0da98ec3f5e7",
   "metadata": {},
   "outputs": [],
   "source": []
  }
 ],
 "metadata": {
  "kernelspec": {
   "display_name": "Python 3 (ipykernel)",
   "language": "python",
   "name": "python3"
  },
  "language_info": {
   "codemirror_mode": {
    "name": "ipython",
    "version": 3
   },
   "file_extension": ".py",
   "mimetype": "text/x-python",
   "name": "python",
   "nbconvert_exporter": "python",
   "pygments_lexer": "ipython3",
   "version": "3.11.3"
  }
 },
 "nbformat": 4,
 "nbformat_minor": 5
}
