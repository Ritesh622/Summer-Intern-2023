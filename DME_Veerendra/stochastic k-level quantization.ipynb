{
 "cells": [
  {
   "cell_type": "code",
   "execution_count": 1,
   "id": "c28cc317-a008-4f60-bcec-25992b92fc0a",
   "metadata": {},
   "outputs": [],
   "source": [
    "import numpy as np\n",
    "from scipy.stats import bernoulli\n",
    "%matplotlib inline\n",
    "import matplotlib.pyplot as plt\n",
    "import warnings\n",
    "warnings.simplefilter(\"ignore\")"
   ]
  },
  {
   "cell_type": "code",
   "execution_count": 2,
   "id": "acfc1c1f-7fe0-403a-86c2-70fa95d326fd",
   "metadata": {},
   "outputs": [],
   "source": [
    "def Bi(xi, k):\n",
    "    \"\"\"A function to generate quantization levels.\n",
    "\n",
    "    Args:\n",
    "        xi (ndarray): parameters to quantize. shape=(d,).\n",
    "        k (int): no. of quantization levels.\n",
    "\n",
    "    Returns:\n",
    "        ndarray: an array of quantization levels\n",
    "    \"\"\"\n",
    "\n",
    "    # the below code is straight forward from the paper\n",
    "    # the whole function can be replaces with\n",
    "    # np.linspace(low=np.min(xi), high=np.max(xi), num=k)\n",
    "    \n",
    "    si = np.max(xi) - np.min(xi)\n",
    "    arr = np.arange(k)*(si/(k-1))\n",
    "    return np.min(xi) + arr"
   ]
  },
  {
   "cell_type": "code",
   "execution_count": 3,
   "id": "da7ab3f0-aee1-4e02-8e32-a0a86271e272",
   "metadata": {},
   "outputs": [],
   "source": [
    "def encoding(xi, k, iters, d):\n",
    "    \"\"\"Encoding function.\n",
    "\n",
    "    Args:\n",
    "        xi (ndarray): parameters to quantize. shape=(d,).\n",
    "        brs (ndarray): an array of quantization levels. shape=(k,).\n",
    "        iters (int): no. of iterations.\n",
    "        d (int): dimensions of the array.\n",
    "\n",
    "    Returns:\n",
    "        ndarray: an array of 1s and 0s with shape(iters, d)\n",
    "        ndarray: an array of left and right quantizing points of each xi.\n",
    "                 shape=(d, 2)\n",
    "    \"\"\"\n",
    "    bi = Bi(xi, k) # generating array of quantization levels.\n",
    "\n",
    "    # np.searchsorted finds the B(r)s of each xi.\n",
    "    # i.e, left point of quantizing interval in which each xi belong to.\n",
    "    br_ids = np.searchsorted(bi, xi, side='right')-1\n",
    "\n",
    "    # stacking them to make them look like points.\n",
    "    # (left point, right point)\n",
    "    brs = np.vstack((br_ids, br_ids+1)).T\n",
    "\n",
    "    # as the np.searchsorted outputs the last index of bi for np.max(xi),\n",
    "    # ids+1 will be out of index.\n",
    "    # outputing last index of bi as both left and right index will solve the problem.\n",
    "    brs[brs==k] = k-1\n",
    "\n",
    "    # replacing indices with quantization values.\n",
    "    brs = bi[brs]\n",
    "\n",
    "    # finds probabilities of the elements,\n",
    "    # outputs 0 for np.max(xi).\n",
    "    probs = np.where(\n",
    "        (brs[:, 1] - brs[:, 0]) != 0,\n",
    "        (xi - brs[:, 0])/(brs[:, 1]-brs[:, 0]),0)\n",
    "    \n",
    "    # outputs 1s and 0s based on the probabilities,\n",
    "    # repeats the above line for iters no. of times.\n",
    "    return bernoulli.rvs(probs, size=(iters, d)), brs\n",
    "\n",
    "\n",
    "def decoding(brs, encs,):\n",
    "    \"\"\"Decoding function.\n",
    "\n",
    "    Args:\n",
    "        brs (ndarray): an array of quantization levels.\n",
    "                        shape = (k,)\n",
    "        encs (ndarray): an arrays of 0s and 1s (output of encoding function).\n",
    "                        shape = (iters, d)\n",
    "\n",
    "    Returns:\n",
    "        ndarray: a decoded array. shape=(iters, d)\n",
    "    \"\"\"\n",
    "    \n",
    "    # for each iteration:\n",
    "        #  replaces 1s with their corresponding B(r+1)s\n",
    "        #  and 0s with corresponding B(r)s.\n",
    "    # np.max(xi) prob is 0. so, this function output with last level...\n",
    "    # value of Bi as the decoded value.\n",
    "    return (np.where(encs, brs[:, 1], brs[:, 0]))"
   ]
  },
  {
   "cell_type": "code",
   "execution_count": 4,
   "id": "b2888958-b856-49e2-8c48-4539b255f10e",
   "metadata": {},
   "outputs": [],
   "source": [
    "def sto_k(k, n=8, d=128, ITERS=1024):\n",
    "    \"\"\"Stochastic K-level Quantization\n",
    "\n",
    "    Args:\n",
    "        k (int): no. of Quantization levels.\n",
    "        n (int, optional): no. of clients. Defaults to 2.\n",
    "        d (int, optional): length of array for each user. Defaults to 64.\n",
    "        ITERS (int, optional): no. of iterations. Defaults to 4096.\n",
    "\n",
    "    Returns:\n",
    "        int: Mean Squared Error.\n",
    "    \"\"\"\n",
    "\n",
    "    # considering uniform distribution\n",
    "    x = np.random.rand(n, d)\n",
    "    \n",
    "    total = 0\n",
    "    for xi in x: # for each client:\n",
    "        # xi.shape = (d,)\n",
    "\n",
    "        encs, brs = encoding(xi=xi, k=k, iters=ITERS, d=d)\n",
    "        yi = decoding(brs=brs, encs=encs.copy())\n",
    "\n",
    "        # adding the encoded and decoded xi of each xi (in order to take their mean).\n",
    "        total += yi\n",
    "\n",
    "    # dividing by number of client (inorder to take their mean).\n",
    "    x_hat_mean = total / n # shape = (iters, d)\n",
    "\n",
    "    # calculating mean along dimensions of several users\n",
    "    x_mean = np.mean(x, axis=0)\n",
    "\n",
    "    # expected error: (using sec-1.2 in DME)\n",
    "    # calculating norm for each iteration. output_shape=(iters,)\n",
    "    # and then calculating mean of the iterations. output_type: scalar.\n",
    "    err = np.mean(np.linalg.norm((x_hat_mean - x_mean), axis=1)**2)\n",
    "\n",
    "    # lemma-5 in DME\n",
    "    # calaculating the norm for each client, squaring and adding them.\n",
    "    bnd = ((0.5 * d)/(n*(k-1))**2)*np.sum(np.linalg.norm(x, axis=1)**2)\n",
    "    \n",
    "    print(\"error:\", err)\n",
    "    print(\"up bound:\", bnd)\n",
    "    print(\"relation holds\") if err <= bnd else print(\"FAILURE\")\n",
    "    return err\n",
    "    "
   ]
  },
  {
   "cell_type": "code",
   "execution_count": 5,
   "id": "48810d29-eeb9-4ee7-b118-c13d0fd16665",
   "metadata": {
    "tags": []
   },
   "outputs": [
    {
     "name": "stdout",
     "output_type": "stream",
     "text": [
      "error: 2.5096941193824365\n",
      "up bound: 349.289573033618\n",
      "relation holds\n"
     ]
    },
    {
     "data": {
      "text/plain": [
       "2.5096941193824365"
      ]
     },
     "execution_count": 5,
     "metadata": {},
     "output_type": "execute_result"
    }
   ],
   "source": [
    "sto_k(k=2)"
   ]
  },
  {
   "cell_type": "code",
   "execution_count": 6,
   "id": "376e4e38-3d89-4d33-9f98-c71fb21efc8f",
   "metadata": {
    "tags": []
   },
   "outputs": [
    {
     "name": "stdout",
     "output_type": "stream",
     "text": [
      "error: 0.2868429965841466\n",
      "up bound: 39.14730825654012\n",
      "relation holds\n"
     ]
    },
    {
     "data": {
      "text/plain": [
       "0.2868429965841466"
      ]
     },
     "execution_count": 6,
     "metadata": {},
     "output_type": "execute_result"
    }
   ],
   "source": [
    "sto_k(k=4)"
   ]
  },
  {
   "cell_type": "code",
   "execution_count": 7,
   "id": "d22d4720-15eb-40b1-8880-b75e456aa7d6",
   "metadata": {
    "tags": []
   },
   "outputs": [
    {
     "name": "stdout",
     "output_type": "stream",
     "text": [
      "error: 0.0025835141028086755\n",
      "up bound: 0.35351666208062493\n",
      "relation holds\n"
     ]
    },
    {
     "data": {
      "text/plain": [
       "0.0025835141028086755"
      ]
     },
     "execution_count": 7,
     "metadata": {},
     "output_type": "execute_result"
    }
   ],
   "source": [
    "sto_k(k=32)"
   ]
  },
  {
   "cell_type": "code",
   "execution_count": 15,
   "id": "126d0fbc-60a4-4989-8587-a1be72612804",
   "metadata": {
    "tags": []
   },
   "outputs": [
    {
     "name": "stdout",
     "output_type": "stream",
     "text": [
      "error: 0.0016546350852397397\n",
      "up bound: 0.21961607866470131\n",
      "relation holds\n"
     ]
    },
    {
     "data": {
      "text/plain": [
       "0.0016546350852397397"
      ]
     },
     "execution_count": 15,
     "metadata": {},
     "output_type": "execute_result"
    }
   ],
   "source": [
    "sto_k(k=40)"
   ]
  },
  {
   "cell_type": "code",
   "execution_count": 16,
   "id": "2ba13cab-227b-4230-ae25-b2c1542cd2b8",
   "metadata": {
    "tags": []
   },
   "outputs": [
    {
     "name": "stdout",
     "output_type": "stream",
     "text": [
      "error: 0.0006456990149832766\n",
      "up bound: 0.09060712564285647\n",
      "relation holds\n"
     ]
    },
    {
     "data": {
      "text/plain": [
       "0.0006456990149832766"
      ]
     },
     "execution_count": 16,
     "metadata": {},
     "output_type": "execute_result"
    }
   ],
   "source": [
    "sto_k(k=64)"
   ]
  },
  {
   "cell_type": "code",
   "execution_count": null,
   "id": "eebdb3e6-5b37-4058-bd0c-7e23573a1601",
   "metadata": {},
   "outputs": [],
   "source": []
  }
 ],
 "metadata": {
  "kernelspec": {
   "display_name": "Python 3 (ipykernel)",
   "language": "python",
   "name": "python3"
  },
  "language_info": {
   "codemirror_mode": {
    "name": "ipython",
    "version": 3
   },
   "file_extension": ".py",
   "mimetype": "text/x-python",
   "name": "python",
   "nbconvert_exporter": "python",
   "pygments_lexer": "ipython3",
   "version": "3.11.3"
  }
 },
 "nbformat": 4,
 "nbformat_minor": 5
}
