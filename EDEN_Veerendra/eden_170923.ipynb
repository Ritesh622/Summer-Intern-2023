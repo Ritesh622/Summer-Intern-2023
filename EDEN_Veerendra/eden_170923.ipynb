{
  "cells": [
    {
      "cell_type": "code",
      "execution_count": 1,
      "id": "6d4f78e1-08ea-44f2-8e61-135220bcc0fe",
      "metadata": {
        "id": "6d4f78e1-08ea-44f2-8e61-135220bcc0fe",
        "tags": []
      },
      "outputs": [],
      "source": [
        "import torch\n",
        "from scipy.linalg import hadamard\n",
        "import matplotlib.pyplot as plt"
      ]
    },
    {
      "cell_type": "code",
      "execution_count": 2,
      "id": "8ac08467-c2f0-423c-94fd-6bb83c3f48d1",
      "metadata": {
        "colab": {
          "base_uri": "https://localhost:8080/"
        },
        "id": "8ac08467-c2f0-423c-94fd-6bb83c3f48d1",
        "outputId": "d50d69be-4d22-4110-8339-37386842b93a",
        "tags": []
      },
      "outputs": [
        {
          "output_type": "execute_result",
          "data": {
            "text/plain": [
              "device(type='cuda')"
            ]
          },
          "metadata": {},
          "execution_count": 2
        }
      ],
      "source": [
        "DEVICE = torch.device(\"cuda\" if torch.cuda.is_available() else \"cpu\")\n",
        "d = torch.tensor(256).to(DEVICE)\n",
        "ITERS = torch.tensor(1e3).type(torch.int32).to(DEVICE)\n",
        "x = torch.randn(d).to(DEVICE)\n",
        "DEVICE"
      ]
    },
    {
      "cell_type": "code",
      "execution_count": 3,
      "id": "b88084d3-9f17-4de0-9bc1-ad1d05fe17e7",
      "metadata": {
        "id": "b88084d3-9f17-4de0-9bc1-ad1d05fe17e7"
      },
      "outputs": [],
      "source": [
        "def lloyd_max(x, k, MAX_ITERS=1000):\n",
        "    codebook = torch.linspace(torch.min(x), torch.max(x), k).to(DEVICE)\n",
        "    for _ in range(MAX_ITERS):\n",
        "        assigns = torch.argmin(abs(x.unsqueeze(1) - codebook), 1)\n",
        "        new_codebook = torch.zeros_like(codebook)\n",
        "        for i in range(k):\n",
        "          values_under_i = x[assigns==i]\n",
        "          if values_under_i.numel()!=0:\n",
        "            new_codebook[i] = torch.mean(x[assigns==i])\n",
        "          else:\n",
        "            new_codebook[i] = codebook[i]\n",
        "        if torch.allclose(new_codebook, codebook, atol=1e-5):\n",
        "            break\n",
        "        else:\n",
        "            codebook=new_codebook\n",
        "    return new_codebook"
      ]
    },
    {
      "cell_type": "code",
      "execution_count": 4,
      "id": "fa468c9a-8c89-441a-a2a7-f3eacab40353",
      "metadata": {
        "id": "fa468c9a-8c89-441a-a2a7-f3eacab40353",
        "tags": []
      },
      "outputs": [],
      "source": [
        "def deterministic_quantization(x, qlevels):\n",
        "    left = torch.searchsorted(qlevels, x, side=\"right\")-1\n",
        "    right = left+1\n",
        "    right[right==qlevels.numel()] = qlevels.numel()-1\n",
        "\n",
        "    intervals = qlevels[torch.stack([left, right], axis=-1)]\n",
        "\n",
        "    thresholds = (intervals[:, 0] + intervals[:, 1])/2\n",
        "    return torch.where(\n",
        "        x>thresholds,\n",
        "        intervals[:, 1],\n",
        "        intervals[:, 0]\n",
        "    )"
      ]
    },
    {
      "cell_type": "code",
      "execution_count": 5,
      "id": "09ec949a-2e2f-45d0-9647-5e964363c73a",
      "metadata": {
        "id": "09ec949a-2e2f-45d0-9647-5e964363c73a",
        "tags": []
      },
      "outputs": [],
      "source": [
        "def eden(x, k, iters=ITERS):\n",
        "    d = torch.tensor(x.size(0))\n",
        "    eta = torch.sqrt(d)/torch.norm(x)\n",
        "\n",
        "    x_hats = torch.zeros(ITERS, d)\n",
        "    for i in range(ITERS):\n",
        "\n",
        "        H = (hadamard(d)/torch.sqrt(d)).type(torch.float32)\n",
        "        diag = torch.diag(torch.where(torch.rand(d)>0.5, 1, -1)).type(torch.float32)\n",
        "        R = torch.mm(H, diag).to(DEVICE)\n",
        "\n",
        "        Rx = torch.matmul(R, x)\n",
        "        Rx *= eta\n",
        "\n",
        "        qlevels = lloyd_max(eta*x, k)\n",
        "        x_enc = deterministic_quantization(Rx, qlevels)\n",
        "\n",
        "        scale = (torch.norm(x)**2) / torch.dot(Rx, x_enc)\n",
        "\n",
        "        x_hats[i] = scale * torch.matmul(R.T, x_enc)\n",
        "    return x_hats"
      ]
    },
    {
      "cell_type": "code",
      "execution_count": 6,
      "id": "5c4ed098-97c7-4e0c-b678-9eaa657670b6",
      "metadata": {
        "colab": {
          "base_uri": "https://localhost:8080/"
        },
        "id": "5c4ed098-97c7-4e0c-b678-9eaa657670b6",
        "outputId": "94748238-9020-439c-e746-e481145db2c0",
        "tags": []
      },
      "outputs": [
        {
          "output_type": "stream",
          "name": "stdout",
          "text": [
            "k: 2\n",
            "The maximum distance between x and E[x_hat]: 0.3374786376953125\n",
            "Average NMSE: 0.25006869435310364 \n",
            "\n",
            "k: 4\n",
            "The maximum distance between x and E[x_hat]: 0.24180936813354492\n",
            "Average NMSE: 0.11929664015769958 \n",
            "\n",
            "k: 8\n",
            "The maximum distance between x and E[x_hat]: 0.17391729354858398\n",
            "Average NMSE: 0.020556392148137093 \n",
            "\n",
            "k: 16\n",
            "The maximum distance between x and E[x_hat]: 0.19721770286560059\n",
            "Average NMSE: 0.01755000464618206 \n",
            "\n",
            "k: 32\n",
            "The maximum distance between x and E[x_hat]: 0.1858816146850586\n",
            "Average NMSE: 0.01674368791282177 \n",
            "\n",
            "k: 64\n",
            "The maximum distance between x and E[x_hat]: 0.1916959285736084\n",
            "Average NMSE: 0.016057945787906647 \n",
            "\n"
          ]
        }
      ],
      "source": [
        "levels = 2**torch.arange(1, 7).to(DEVICE)\n",
        "nmse = torch.zeros_like(levels).type(torch.float32)\n",
        "\n",
        "for i, k in enumerate(levels):\n",
        "    print(\"k:\", k.item())\n",
        "    xhat = eden(x, k).to(DEVICE)\n",
        "    # for proving unbiasedness:\n",
        "    E_xhat = torch.mean(xhat, axis=0).to(DEVICE)\n",
        "    print(\"The maximum distance between x and E[x_hat]:\", torch.max(E_xhat - x).item())\n",
        "    # avg NMSE\n",
        "    avg_vNMSE = (torch.mean(torch.norm(x - xhat, dim=1)) / (torch.norm(x)**2)).item()\n",
        "    print(\"Average NMSE:\", avg_vNMSE, \"\\n\")\n",
        "    nmse[i] = avg_vNMSE"
      ]
    },
    {
      "cell_type": "code",
      "execution_count": 7,
      "id": "XLgjUZr1bKOM",
      "metadata": {
        "colab": {
          "base_uri": "https://localhost:8080/",
          "height": 472
        },
        "id": "XLgjUZr1bKOM",
        "outputId": "eaa2bf6d-3fbd-4e0f-a966-900eb612c146"
      },
      "outputs": [
        {
          "output_type": "display_data",
          "data": {
            "text/plain": [
              "<Figure size 640x480 with 1 Axes>"
            ],
            "image/png": "[encoded data removed]"
          },
          "metadata": {}
        }
      ],
      "source": [
        "plt.plot(levels.cpu().numpy(), torch.log(nmse).cpu().numpy())\n",
        "plt.xlabel(\"Quantization levels\")\n",
        "plt.ylabel(\"Log(NMSE)\")\n",
        "plt.title(f\"Eden - on normal data (d={d}, iterations:{ITERS})\")\n",
        "plt.show()"
      ]
    },
    {
      "cell_type": "code",
      "execution_count": 7,
      "id": "Zem_uU_ChzIY",
      "metadata": {
        "id": "Zem_uU_ChzIY"
      },
      "outputs": [],
      "source": []
    }
  ],
  "metadata": {
    "accelerator": "GPU",
    "colab": {
      "gpuType": "T4",
      "provenance": []
    },
    "kernelspec": {
      "display_name": "Python 3",
      "name": "python3"
    },
    "language_info": {
      "codemirror_mode": {
        "name": "ipython",
        "version": 3
      },
      "file_extension": ".py",
      "mimetype": "text/x-python",
      "name": "python",
      "nbconvert_exporter": "python",
      "pygments_lexer": "ipython3",
      "version": "3.10.1"
    }
  },
  "nbformat": 4,
  "nbformat_minor": 5
}