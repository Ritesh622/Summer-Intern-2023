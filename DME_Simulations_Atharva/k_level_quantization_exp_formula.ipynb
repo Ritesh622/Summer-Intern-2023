{
 "cells": [
  {
   "cell_type": "code",
   "execution_count": 1,
   "id": "b234767d",
   "metadata": {},
   "outputs": [],
   "source": [
    "import numpy as np\n",
    "import random\n",
    "import matplotlib.pyplot as plt"
   ]
  },
  {
   "cell_type": "code",
   "execution_count": 2,
   "id": "af698726",
   "metadata": {},
   "outputs": [],
   "source": [
    "def get_array(d):\n",
    "#     while True:\n",
    "    arr = np.random.randn(d,)\n",
    "#         norm= np.linalg.norm(arr)\n",
    "#         if norm <= 1:\n",
    "    return list(arr/3)"
   ]
  },
  {
   "cell_type": "code",
   "execution_count": 3,
   "id": "a550d0b2",
   "metadata": {},
   "outputs": [],
   "source": [
    "def get_x(n,d):\n",
    "    x=[]\n",
    "    for _ in range(n):\n",
    "        z=get_array(d)\n",
    "        x.append(z)\n",
    "    #print(x)\n",
    "    x_mean=np.mean(x,axis=0)\n",
    "    return x,x_mean\n",
    "#x_mean list represents average of x in each client\n",
    "#print(x_mean)"
   ]
  },
  {
   "cell_type": "code",
   "execution_count": 4,
   "id": "a0656126",
   "metadata": {},
   "outputs": [],
   "source": [
    "n=16\n",
    "d=512\n",
    "iters=20\n",
    "x,x_mean= get_x(n,d)\n",
    "#x_mean"
   ]
  },
  {
   "cell_type": "code",
   "execution_count": 5,
   "id": "7df600ce",
   "metadata": {},
   "outputs": [],
   "source": [
    "def encoder(x,n,d,k):\n",
    "    B=[]\n",
    "    v=[]\n",
    "    for i in range(n):\n",
    "        u=x[i]\n",
    "        x_min=np.min(u)\n",
    "        x_max=np.max(u)\n",
    "        s=x_max-x_min\n",
    "        B_=np.linspace(x_min,x_max,num=k)\n",
    "        v_=np.searchsorted(B_,u,side='right')-1   \n",
    "        v.append(v_.tolist())\n",
    "        B_client=np.append(B_,0)\n",
    "        B.append(B_client.tolist())\n",
    "        \n",
    "    return B,v\n",
    "            "
   ]
  },
  {
   "cell_type": "code",
   "execution_count": 6,
   "id": "eee94e01",
   "metadata": {},
   "outputs": [],
   "source": [
    "def decoder(B,v,x,d):\n",
    "    Y=[]\n",
    "    sum1=0\n",
    "    for i in range(n):\n",
    "        u=x[i]\n",
    "        x_max=np.max(u)\n",
    "        x_min=np.min(u)\n",
    "        y=[]\n",
    "        for j in range(d):\n",
    "            #B[j]=B(r)\n",
    "            y_est=0\n",
    "            r=v[i][j]\n",
    "            z=B[i][r]\n",
    "            w=B[i][r+1]\n",
    "            p=(u[j]-z)/(w-z)\n",
    "            sum1 +=((w-u[j])*(u[j]-z))                \n",
    "            y_est=random.choices([w,z],[p,1-p])[0]\n",
    "            y.append(y_est)   \n",
    "        Y.append(y)\n",
    "    return Y,sum1"
   ]
  },
  {
   "cell_type": "code",
   "execution_count": 7,
   "id": "e91ff9e6",
   "metadata": {},
   "outputs": [],
   "source": [
    "def loss_k(k1):\n",
    "    loss=0\n",
    "    sum2=0\n",
    "    k=2**k1\n",
    "    for _ in range(iters):\n",
    "        \n",
    "        sum_est_mean=0\n",
    "        sum_est=0\n",
    "        sum1 = 0\n",
    "        B,v=encoder(x,n,d,k)\n",
    "        #print(B,v)\n",
    "        Y,sum1=decoder(B,v,x,d)\n",
    "        sum2+=sum1\n",
    "        x_mean_est=np.mean(Y,axis=0)\n",
    "        \n",
    "        error=np.subtract(x_mean_est,x_mean)\n",
    "        loss+=(np.linalg.norm(error))**2\n",
    "        \n",
    "    return (loss/iters),(sum2/(iters*(n**2)))\n"
   ]
  },
  {
   "cell_type": "code",
   "execution_count": 8,
   "id": "0ed607d0",
   "metadata": {
    "scrolled": false
   },
   "outputs": [],
   "source": [
    "losses=[]\n",
    "calc_losses=[]\n",
    "\n",
    "for k in range(1,9):\n",
    "    \n",
    "    calc_loss,theoretical_loss=loss_k(k)\n",
    "    losses.append(calc_loss)\n",
    "    calc_losses.append(theoretical_loss)"
   ]
  },
  {
   "cell_type": "code",
   "execution_count": 9,
   "id": "020216b7",
   "metadata": {},
   "outputs": [
    {
     "name": "stdout",
     "output_type": "stream",
     "text": [
      "[7.983353418030556, 0.6653651710394798, 0.11858633188051118, 0.026873788962442264, 0.0065496977049069455, 0.001570688624849266, 0.00038241615127791365, 9.44888243837992e-05]\n",
      "[7.88608286127186, 0.6766330027775901, 0.12237982318342029, 0.02709435801111061, 0.006343456397426638, 0.0015270918899300365, 0.00038158855742930316, 9.431451918024684e-05]\n"
     ]
    }
   ],
   "source": [
    "print(losses)\n",
    "print(calc_losses)"
   ]
  },
  {
   "cell_type": "code",
   "execution_count": 11,
   "id": "788542b3",
   "metadata": {},
   "outputs": [
    {
     "data": {
      "image/png": "[encoded data removed]",
      "text/plain": [
       "<Figure size 640x480 with 1 Axes>"
      ]
     },
     "metadata": {},
     "output_type": "display_data"
    }
   ],
   "source": [
    "plt.plot(2**np.arange(1,9),np.log(losses),color=\"orange\",label='Unbiased Normal Formula')\n",
    "plt.plot(2**np.arange(1,9),np.log(calc_losses),color=\"g\",label='Unbiased Expectation Formula')\n",
    "plt.xlabel(\"K\")\n",
    "plt.ylabel(\"MSE\")\n",
    "plt.legend()\n",
    "plt.savefig(\"Unbiased_Used_Formula_vs_Unbiased_Theoretical_Formula.pdf\")\n",
    "plt.show()"
   ]
  },
  {
   "cell_type": "code",
   "execution_count": null,
   "id": "0c6480ee",
   "metadata": {},
   "outputs": [],
   "source": []
  }
 ],
 "metadata": {
  "kernelspec": {
   "display_name": "Python 3 (ipykernel)",
   "language": "python",
   "name": "python3"
  },
  "language_info": {
   "codemirror_mode": {
    "name": "ipython",
    "version": 3
   },
   "file_extension": ".py",
   "mimetype": "text/x-python",
   "name": "python",
   "nbconvert_exporter": "python",
   "pygments_lexer": "ipython3",
   "version": "3.11.3"
  }
 },
 "nbformat": 4,
 "nbformat_minor": 5
}
