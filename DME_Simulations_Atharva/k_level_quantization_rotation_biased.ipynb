{
 "cells": [
  {
   "cell_type": "code",
   "execution_count": 1,
   "id": "2cc7806d",
   "metadata": {},
   "outputs": [],
   "source": [
    "import random\n",
    "import numpy as np\n",
    "import matplotlib.pyplot as plt\n",
    "from scipy.linalg import hadamard as hd\n",
    "from scipy.stats import bernoulli as bn"
   ]
  },
  {
   "cell_type": "code",
   "execution_count": 2,
   "id": "07a079b1",
   "metadata": {},
   "outputs": [],
   "source": [
    "def get_array(d):\n",
    "#     while True:\n",
    "    arr = np.random.randn(d,)\n",
    "#         norm= np.linalg.norm(arr)\n",
    "#         if norm <= 1:\n",
    "    return list(arr/3)"
   ]
  },
  {
   "cell_type": "code",
   "execution_count": 3,
   "id": "506f4860",
   "metadata": {},
   "outputs": [],
   "source": [
    "def get_x(n,d):\n",
    "    x=[]\n",
    "    for _ in range(n):\n",
    "        z=get_array(d)\n",
    "        x.append(z)\n",
    "    return x\n",
    "#x_mean list represents average of x in each client\n"
   ]
  },
  {
   "cell_type": "code",
   "execution_count": 4,
   "id": "d3bc0266",
   "metadata": {},
   "outputs": [],
   "source": [
    "def R(d):\n",
    "    r=bn.rvs(0.5,size=d)\n",
    "    diagonal_elements=2*r-1\n",
    "    D=np.diag(diagonal_elements)\n",
    "    H=hd(d)\n",
    "    R=np.matmul(H,D)\n",
    "    return R"
   ]
  },
  {
   "cell_type": "code",
   "execution_count": 5,
   "id": "fd11ed19",
   "metadata": {},
   "outputs": [],
   "source": [
    "n=16\n",
    "d=512\n",
    "iters=20\n",
    "x1 = get_x(n,d)\n",
    "x=np.transpose(x1)\n",
    "R=R(d)\n",
    "z1=np.matmul(R,x)\n",
    "z=np.transpose(z1)\n",
    "R_inv=np.linalg.inv(R)\n",
    "x_mean=np.mean(x1,axis=0)\n",
    "# print(np.mean(x1,axis=0))\n",
    "# print(x_mean)"
   ]
  },
  {
   "cell_type": "code",
   "execution_count": 6,
   "id": "c040b54f",
   "metadata": {},
   "outputs": [],
   "source": [
    "def encoder(x,n,d,k):\n",
    "    B=[]\n",
    "    v=[]\n",
    "    for i in range(n):\n",
    "        u=x[i]\n",
    "        x_min=np.min(u)\n",
    "        x_max=np.max(u)\n",
    "        s=x_max-x_min\n",
    "        B_=np.linspace(x_min,x_max,num=k)\n",
    "        v_=np.searchsorted(B_,u,side='right')-1   \n",
    "        v.append(v_.tolist())\n",
    "        B_client=np.append(B_,0)\n",
    "        B.append(B_client.tolist())\n",
    "        \n",
    "    return B,v"
   ]
  },
  {
   "cell_type": "code",
   "execution_count": 7,
   "id": "f89344c3",
   "metadata": {},
   "outputs": [],
   "source": [
    "def decoder(B,v,x,d):\n",
    "    Y=[]\n",
    "    sum1=0\n",
    "    for i in range(n):\n",
    "        u=x[i]\n",
    "        x_max=np.max(u)\n",
    "        x_min=np.min(u)\n",
    "        y=[]\n",
    "        for j in range(d):\n",
    "            #B[j]=B(r)\n",
    "            y_est=0\n",
    "            r=v[i][j]\n",
    "            q=B[i][r]\n",
    "            w=B[i][r+1]\n",
    "            p=(u[j]-q)/(w-q)     \n",
    "            l=(3*w+q)/4\n",
    "            m=(3*q+w)/4\n",
    "            y_est=random.choices([l,m],[p,1-p])[0]\n",
    "            y.append(y_est)   \n",
    "        Y.append(y)\n",
    "    return Y"
   ]
  },
  {
   "cell_type": "code",
   "execution_count": 8,
   "id": "7d2f0e9b",
   "metadata": {},
   "outputs": [],
   "source": [
    "def loss_k(k1):\n",
    "    loss=0\n",
    "\n",
    "    k=2**k1\n",
    "    for _ in range(iters):\n",
    "        \n",
    "        B,v=encoder(x1,n,d,k)\n",
    "        #print(B,v)\n",
    "        Y=decoder(B,v,x1,d)\n",
    "\n",
    "        x_mean_est=np.mean(Y,axis=0)\n",
    "        error=np.subtract(x_mean_est,x_mean)\n",
    "        loss+=(np.linalg.norm(error))**2\n",
    "    return (loss/iters)"
   ]
  },
  {
   "cell_type": "code",
   "execution_count": 9,
   "id": "9521cad7",
   "metadata": {},
   "outputs": [],
   "source": [
    "def encoder_rotation(z,n,d,k):\n",
    "    B=[]\n",
    "    v=[]\n",
    "    for i in range(n):\n",
    "        u=z[i]\n",
    "        z_min=np.min(u)\n",
    "        z_max=np.max(u)\n",
    "        s=z_max-z_min\n",
    "        B_=np.linspace(z_min,z_max,num=k)\n",
    "        v_=np.searchsorted(B_,u,side='right')-1   \n",
    "        v.append(v_.tolist())\n",
    "        B_client=np.append(B_,0)\n",
    "        B.append(B_client.tolist())\n",
    "    \n",
    "    #print(B,\"\\n\",v)    \n",
    "    return B,v"
   ]
  },
  {
   "cell_type": "code",
   "execution_count": 10,
   "id": "fa6729ba",
   "metadata": {},
   "outputs": [],
   "source": [
    "def decoder_rotation(B,v,z,d):\n",
    "    Y=[]\n",
    "    sum1=0\n",
    "    for i in range(n):\n",
    "        u=z[i]\n",
    "        z_max=np.max(u)\n",
    "        z_min=np.min(u)\n",
    "        y=[]\n",
    "        for j in range(d):\n",
    "            #B[j]=B(r)\n",
    "            y_est=0\n",
    "            r=v[i][j]\n",
    "            q=B[i][r]\n",
    "            w=B[i][r+1]\n",
    "            p=(u[j]-q)/(w-q)\n",
    "            l=(3*w+q)/4\n",
    "            m=(3*q+w)/4\n",
    "            y_est=random.choices([l,m],[p,1-p])[0]\n",
    "            y.append(y_est)   \n",
    "        Y.append(y)\n",
    "    return Y"
   ]
  },
  {
   "cell_type": "code",
   "execution_count": 11,
   "id": "6f0e4205",
   "metadata": {},
   "outputs": [],
   "source": [
    "def loss_k_rotation(k1):\n",
    "    loss=0\n",
    "    k=2**k1\n",
    "    for _ in range(iters):\n",
    "\n",
    "        B,v=encoder_rotation(z,n,d,k)\n",
    "        #print(B,v)\n",
    "        Y=decoder_rotation(B,v,z,d)\n",
    "\n",
    "        x_mean_est_rotated=np.mean(Y,axis=0)\n",
    "        x_mean_est=np.matmul(R_inv,x_mean_est_rotated)\n",
    "        \n",
    "        error=np.subtract(x_mean_est,x_mean)\n",
    "        \n",
    "        loss+=(np.linalg.norm(error))**2\n",
    "    return (loss/iters)"
   ]
  },
  {
   "cell_type": "code",
   "execution_count": 20,
   "id": "2f847b3f",
   "metadata": {},
   "outputs": [],
   "source": [
    "losses=[]\n",
    "losses_rotation=[]\n",
    "for k in range(1,8):\n",
    "    #print(x)\n",
    "    loss_rotation=loss_k_rotation(k)\n",
    "    loss=loss_k(k)\n",
    "    losses_rotation.append(loss_rotation)\n",
    "    losses.append(loss)\n",
    "   "
   ]
  },
  {
   "cell_type": "code",
   "execution_count": 21,
   "id": "7333c669",
   "metadata": {},
   "outputs": [
    {
     "name": "stdout",
     "output_type": "stream",
     "text": [
      "[8.263321806243876, 0.9585606371251704, 0.17182736040327706, 0.041817058635076496, 0.012597125132826962, 0.006137568765332073, 0.004711065311701035]\n",
      "[8.48772884396017, 0.9230363938780707, 0.17750329173187604, 0.043409896463831144, 0.013924560678899212, 0.006996858512272869, 0.00590337306748358]\n"
     ]
    }
   ],
   "source": [
    "print(losses_rotation)\n",
    "print(losses)"
   ]
  },
  {
   "cell_type": "code",
   "execution_count": 22,
   "id": "5f15de8a",
   "metadata": {},
   "outputs": [
    {
     "data": {
      "image/png": "[encoded data removed]",
      "text/plain": [
       "<Figure size 640x480 with 1 Axes>"
      ]
     },
     "metadata": {},
     "output_type": "display_data"
    }
   ],
   "source": [
    "plt.plot(2**np.arange(1,8),np.log(losses),color=\"orange\",label='Biased Losses')\n",
    "plt.plot(2**np.arange(1,8),np.log(losses_rotation),color=\"g\",label='Biased Rotated Losses')\n",
    "plt.xlabel(\"K (levels of quantization)\")\n",
    "plt.ylabel(\"log(MSE)\")\n",
    "plt.legend()\n",
    "plt.savefig(\"log(MSE)_biased_vs_rotated_biased.pdf\")"
   ]
  }
 ],
 "metadata": {
  "kernelspec": {
   "display_name": "Python 3 (ipykernel)",
   "language": "python",
   "name": "python3"
  },
  "language_info": {
   "codemirror_mode": {
    "name": "ipython",
    "version": 3
   },
   "file_extension": ".py",
   "mimetype": "text/x-python",
   "name": "python",
   "nbconvert_exporter": "python",
   "pygments_lexer": "ipython3",
   "version": "3.11.3"
  }
 },
 "nbformat": 4,
 "nbformat_minor": 5
}
