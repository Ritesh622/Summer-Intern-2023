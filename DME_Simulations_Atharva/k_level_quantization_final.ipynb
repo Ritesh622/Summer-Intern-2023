{
 "cells": [
  {
   "cell_type": "code",
   "execution_count": 1,
   "id": "b234767d",
   "metadata": {},
   "outputs": [],
   "source": [
    "import numpy as np\n",
    "import random\n",
    "import matplotlib.pyplot as plt"
   ]
  },
  {
   "cell_type": "code",
   "execution_count": 2,
   "id": "af698726",
   "metadata": {},
   "outputs": [],
   "source": [
    "def get_array(d):\n",
    "#     while True:\n",
    "    arr = np.random.randn(d,)\n",
    "#         norm= np.linalg.norm(arr)\n",
    "#         if norm <= 1:\n",
    "    return list(arr/3)"
   ]
  },
  {
   "cell_type": "code",
   "execution_count": 3,
   "id": "a550d0b2",
   "metadata": {},
   "outputs": [],
   "source": [
    "def get_x(n,d):\n",
    "    x=[]\n",
    "    for _ in range(n):\n",
    "        z=get_array(d)\n",
    "        x.append(z)\n",
    "    #print(x)\n",
    "    x_mean=np.mean(x,axis=0)\n",
    "    return x,x_mean\n",
    "#x_mean list represents average of x in each client\n",
    "#print(x_mean)"
   ]
  },
  {
   "cell_type": "code",
   "execution_count": 4,
   "id": "a0656126",
   "metadata": {},
   "outputs": [],
   "source": [
    "n=16\n",
    "d=512\n",
    "iters=20\n",
    "x,x_mean= get_x(n,d)\n",
    "#x_mean"
   ]
  },
  {
   "cell_type": "code",
   "execution_count": 5,
   "id": "7df600ce",
   "metadata": {},
   "outputs": [],
   "source": [
    "def encoder(x,n,d,k):\n",
    "    B=[]\n",
    "    v=[]\n",
    "    for i in range(n):\n",
    "        u=x[i]\n",
    "        x_min=np.min(u)\n",
    "        x_max=np.max(u)\n",
    "        s=x_max-x_min\n",
    "        B_=np.linspace(x_min,x_max,num=k)\n",
    "        v_=np.searchsorted(B_,u,side='right')-1   \n",
    "        v.append(v_.tolist())\n",
    "        B_client=np.append(B_,0)\n",
    "        B.append(B_client.tolist())\n",
    "        \n",
    "    return B,v\n",
    "            "
   ]
  },
  {
   "cell_type": "code",
   "execution_count": 6,
   "id": "eee94e01",
   "metadata": {},
   "outputs": [],
   "source": [
    "def decoder(B,v,x,d):\n",
    "    Y=[]\n",
    "    sum1=0\n",
    "    for i in range(n):\n",
    "        u=x[i]\n",
    "        x_max=np.max(u)\n",
    "        x_min=np.min(u)\n",
    "        y=[]\n",
    "        for j in range(d):\n",
    "            #B[j]=B(r)\n",
    "            y_est=0\n",
    "            r=v[i][j]\n",
    "            z=B[i][r]\n",
    "            w=B[i][r+1]\n",
    "            p=(u[j]-z)/(w-z)\n",
    "            sum1 +=(x_max-u[j])*(u[j]-x_min)                \n",
    "            y_est=random.choices([w,z],[p,1-p])[0]\n",
    "            y.append(y_est)   \n",
    "        Y.append(y)\n",
    "    return Y,sum1"
   ]
  },
  {
   "cell_type": "code",
   "execution_count": 7,
   "id": "c2b19d75",
   "metadata": {},
   "outputs": [],
   "source": [
    "def decoder_biased(B,v,x,d):\n",
    "    Y=[]\n",
    "    sum1=0\n",
    "    for i in range(n):\n",
    "        u=x[i]\n",
    "        x_max=np.max(u)\n",
    "        x_min=np.min(u)\n",
    "        y=[]\n",
    "        for j in range(d):\n",
    "            #B[j]=B(r)\n",
    "            y_est=0\n",
    "            r=v[i][j]\n",
    "            z=B[i][r]\n",
    "            w=B[i][r+1]\n",
    "            p=(u[j]-z)/(w-z) \n",
    "            l=(3*w+z)/4\n",
    "            m=(3*z+w)/4\n",
    "            y_est=random.choices([l,m],[p,1-p])[0]\n",
    "            y.append(y_est)   \n",
    "        Y.append(y)\n",
    "    return Y"
   ]
  },
  {
   "cell_type": "code",
   "execution_count": 8,
   "id": "e91ff9e6",
   "metadata": {},
   "outputs": [],
   "source": [
    "def loss_k(k1):\n",
    "    loss=0\n",
    "    sum2=0\n",
    "    k=2**k1\n",
    "    for _ in range(iters):\n",
    "        \n",
    "        sum_est_mean=0\n",
    "        sum_est=0\n",
    "        sum1 = 0\n",
    "        B,v=encoder(x,n,d,k)\n",
    "        #print(B,v)\n",
    "        Y,sum1=decoder(B,v,x,d)\n",
    "        sum2+=sum1\n",
    "        x_mean_est=np.mean(Y,axis=0)\n",
    "        error=np.subtract(x_mean_est,x_mean)\n",
    "        loss+=(np.linalg.norm(error))**2\n",
    "    return (loss/iters),(sum2/(iters*(n**2))),x_mean_est\n"
   ]
  },
  {
   "cell_type": "code",
   "execution_count": 9,
   "id": "d31e5122",
   "metadata": {},
   "outputs": [],
   "source": [
    "def loss_k_biased(k1):\n",
    "    loss_biased=0\n",
    "    k=2**k1\n",
    "    for _ in range(iters):\n",
    "        Y_biased=[]\n",
    "        sum_est_mean_biased=0\n",
    "        sum_est_biased=0\n",
    "        \n",
    "        B,v=encoder(x,n,d,k)\n",
    "\n",
    "        Y_biased=decoder_biased(B,v,x,d)\n",
    "\n",
    "        x_mean_est_biased=np.mean(Y_biased,axis=0)\n",
    "    \n",
    "        error_biased=np.subtract(x_mean_est_biased,x_mean)\n",
    "        loss_biased+=(np.linalg.norm(error_biased))**2\n",
    "    return (loss_biased/iters)"
   ]
  },
  {
   "cell_type": "code",
   "execution_count": 28,
   "id": "0ed607d0",
   "metadata": {
    "scrolled": false
   },
   "outputs": [],
   "source": [
    "losses=[]\n",
    "losses_biased=[]\n",
    "calc_losses=[]\n",
    "theoretical_loss=0\n",
    "calc_loss=0\n",
    "#print(x_mean)\n",
    "for k in range(1,7):\n",
    "    #print(x)\n",
    "    calc_loss,theoretical_loss,Y_mean=loss_k(k)\n",
    "    #print(Y_mean)\n",
    "    losses_biased.append(loss_k_biased(k))\n",
    "    losses.append(calc_loss)\n",
    "    calc_losses.append(theoretical_loss)\n",
    "   "
   ]
  },
  {
   "cell_type": "code",
   "execution_count": 29,
   "id": "020216b7",
   "metadata": {},
   "outputs": [
    {
     "name": "stdout",
     "output_type": "stream",
     "text": [
      "[29.898622709863645, 2.4613883816338507, 0.4571680684766267, 0.09804443999209667, 0.022818070651576528, 0.005608581658258621]\n",
      "[29.63438561417985, 29.63438561417985, 29.63438561417985, 29.63438561417985, 29.63438561417985, 29.63438561417985]\n",
      "[8.40537615253878, 0.9507699615700729, 0.18039246019685962, 0.04285640188582636, 0.013580370560657381, 0.006840566658032135]\n"
     ]
    }
   ],
   "source": [
    "print(losses)\n",
    "print(calc_losses)\n",
    "print(losses_biased)"
   ]
  },
  {
   "cell_type": "code",
   "execution_count": 30,
   "id": "788542b3",
   "metadata": {},
   "outputs": [
    {
     "data": {
      "image/png": "[encoded data removed]",
      "text/plain": [
       "<Figure size 640x480 with 1 Axes>"
      ]
     },
     "metadata": {},
     "output_type": "display_data"
    }
   ],
   "source": [
    "plt.plot(2**np.arange(1,7),np.log(losses),color=\"orange\",label='Unbiased')\n",
    "plt.plot(2**np.arange(1,7),np.log(losses_biased),color=\"g\",label='Biased')\n",
    "plt.xlabel(\"K(levels of quantization)\")\n",
    "plt.ylabel(\"log(MSE)\")\n",
    "plt.legend()\n",
    "plt.savefig(\"log(MSE)_Unbiased_vs_Biased.pdf\")"
   ]
  },
  {
   "cell_type": "code",
   "execution_count": null,
   "id": "bcdc35dd",
   "metadata": {},
   "outputs": [],
   "source": []
  }
 ],
 "metadata": {
  "kernelspec": {
   "display_name": "Python 3 (ipykernel)",
   "language": "python",
   "name": "python3"
  },
  "language_info": {
   "codemirror_mode": {
    "name": "ipython",
    "version": 3
   },
   "file_extension": ".py",
   "mimetype": "text/x-python",
   "name": "python",
   "nbconvert_exporter": "python",
   "pygments_lexer": "ipython3",
   "version": "3.11.3"
  }
 },
 "nbformat": 4,
 "nbformat_minor": 5
}
