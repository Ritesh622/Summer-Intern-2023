{
 "cells": [
  {
   "cell_type": "code",
   "execution_count": 1,
   "id": "b234767d",
   "metadata": {},
   "outputs": [],
   "source": [
    "import numpy as np\n",
    "import random\n",
    "import matplotlib.pyplot as plt"
   ]
  },
  {
   "cell_type": "code",
   "execution_count": 2,
   "id": "af698726",
   "metadata": {},
   "outputs": [],
   "source": [
    "def get_array(d):\n",
    "    while True:\n",
    "        arr = np.random.randn(d,)\n",
    "        norm= np.linalg.norm(arr)\n",
    "        if norm <= 1:\n",
    "            return list(arr)"
   ]
  },
  {
   "cell_type": "code",
   "execution_count": 3,
   "id": "a550d0b2",
   "metadata": {},
   "outputs": [],
   "source": [
    "def get_x(n,d):\n",
    "    x=[]\n",
    "    for _ in range(n):\n",
    "        z=get_array(d)\n",
    "        x.append(z)\n",
    "    #print(x)\n",
    "    x_mean=np.mean(x,axis=0)\n",
    "    return x,x_mean\n",
    "#x_mean list represents average of x in each client\n",
    "#print(x_mean)"
   ]
  },
  {
   "cell_type": "code",
   "execution_count": 4,
   "id": "a0656126",
   "metadata": {},
   "outputs": [],
   "source": [
    "n=10\n",
    "d=10\n",
    "\n",
    "x,x_mean= get_x(n,d)"
   ]
  },
  {
   "cell_type": "code",
   "execution_count": 5,
   "id": "e91ff9e6",
   "metadata": {},
   "outputs": [],
   "source": [
    "def loss_k(k1):\n",
    "    loss=0\n",
    "    for _ in range(1):\n",
    "        Y=[]\n",
    "        k=2**k1\n",
    "        sum_est_mean=0\n",
    "        sum_est=0\n",
    "        sum1 = 0\n",
    "        \n",
    "        for i in range(n):\n",
    "            u=x[i]\n",
    "            x_min=np.min(u)\n",
    "            x_max=np.max(u)\n",
    "        #   print(u)\n",
    "        #   print(x_max,\"\\n\")\n",
    "            s=x_max-x_min\n",
    "            y=[]\n",
    "            B_=np.linspace(x_min,x_max,num=k)\n",
    "            #B represents the different levels of quantization\n",
    "            v=np.searchsorted(B_,u,side='right')-1     \n",
    "            #B(v), v is list of indices of B(r)\n",
    "            B=np.append(B_,0)\n",
    "            #print(\"Unbiased: \",B,v)\n",
    "        \n",
    "            for j in range(d):\n",
    "                #B[j]=B(r)\n",
    "                y_est=0\n",
    "                r=v[j]\n",
    "                z=B[r]\n",
    "                w=B[r+1]\n",
    "\n",
    "                #print(\"Unbiased: \",j,z,w,\"\\n\")\n",
    "            #   print(z,\"\\n\")\n",
    "                p=(u[j]-z)/(w-z)\n",
    "                #sum1 +=(x_max-u[j])*(u[j]-x_min)\n",
    "                #print(p)\n",
    "                \n",
    "                y_est=random.choices([w,z],[p,1-p],k=1)\n",
    "                y.append((np.mean(y_est)).tolist())    \n",
    "                \n",
    "\n",
    "            Y.append(y)\n",
    "\n",
    "        #print(Y)\n",
    "        error=np.subtract(x,Y)\n",
    "        loss=(np.linalg.norm(error,axis=1))**2\n",
    "        loss_mean=np.mean(loss)\n",
    "    return loss_mean"
   ]
  },
  {
   "cell_type": "code",
   "execution_count": 6,
   "id": "d31e5122",
   "metadata": {},
   "outputs": [],
   "source": [
    "def loss_k_biased(k1):\n",
    "    loss_biased=0\n",
    "    for _ in range(1):\n",
    "        Y_biased=[]\n",
    "        k=2**k1\n",
    "        sum_est_mean_biased=0\n",
    "        sum_est_biased=0\n",
    "\n",
    "        for i in range(n):\n",
    "            u=x[i]\n",
    "            x_min=np.min(u)\n",
    "            x_max=np.max(u)\n",
    "        #   print(u)\n",
    "        #   print(x_max,\"\\n\")\n",
    "            s=x_max-x_min\n",
    "            y_biased=[]\n",
    "            B_biased_=np.linspace(x_min,x_max,num=k)\n",
    "            #B represents the different levels of quantization\n",
    "            v=np.searchsorted(B_biased_,u,side='right')-1     \n",
    "            #B(v), v is list of indices of B(r)\n",
    "            B=np.append(B_biased_,0)\n",
    "            #print(\"Biased: \",B,v)\n",
    "            \n",
    "            for j in range(d):\n",
    "                #B[j]=B(r)\n",
    "                r=v[j]\n",
    "                z=B[r]\n",
    "                w=B[r+1]\n",
    "                y_est_biased=0\n",
    "                #print(\"Biased: \",j,z,w,\"\\n\\n\")\n",
    "            #   print(z,\"\\n\")\n",
    "                p=(u[j]-z)/(w-z)\n",
    "                #print(p)\n",
    "                l=((3*z)+w)/4\n",
    "                m=((3*w)+z)/4\n",
    "                y_est_biased=random.choices([m,l],[p,1-p],k=1)\n",
    "                y_biased.append((np.mean(y_est_biased)).tolist())\n",
    "                \n",
    "            Y_biased.append(y_biased)\n",
    "\n",
    "        #print(Y_biased)\n",
    "        error_biased=np.subtract(x,Y_biased)\n",
    "        loss_biased=(np.linalg.norm(error_biased,axis=1))**2\n",
    "        loss_biased_mean=np.mean(loss_biased)\n",
    "    return (loss_biased_mean)"
   ]
  },
  {
   "cell_type": "code",
   "execution_count": 7,
   "id": "0ed607d0",
   "metadata": {
    "scrolled": false
   },
   "outputs": [],
   "source": [
    "losses=[]\n",
    "losses_biased=[]\n",
    "#print(x)\n",
    "for k in range(1,7):\n",
    "    #print(x)\n",
    "    losses.append(loss_k(k))\n",
    "    losses_biased.append(loss_k_biased(k))\n",
    "   "
   ]
  },
  {
   "cell_type": "code",
   "execution_count": 8,
   "id": "020216b7",
   "metadata": {},
   "outputs": [],
   "source": [
    "print(losses)\n",
    "print(losses_biased)"
   ]
  },
  {
   "cell_type": "code",
   "execution_count": 9,
   "id": "788542b3",
   "metadata": {},
   "outputs": [],
   "source": [
    "plt.plot(2**np.arange(1,7),np.log(losses),color=\"orange\")\n",
    "plt.plot(2**np.arange(1,7),np.log(losses_biased),color=\"g\")\n",
    "plt.xlabel(\"K\")\n",
    "plt.ylabel(\"MSE\")"
   ]
  },
  {
   "cell_type": "code",
   "execution_count": null,
   "id": "aae28957",
   "metadata": {},
   "outputs": [],
   "source": []
  }
 ],
 "metadata": {
  "kernelspec": {
   "display_name": "Python 3 (ipykernel)",
   "language": "python",
   "name": "python3"
  },
  "language_info": {
   "codemirror_mode": {
    "name": "ipython",
    "version": 3
   },
   "file_extension": ".py",
   "mimetype": "text/x-python",
   "name": "python",
   "nbconvert_exporter": "python",
   "pygments_lexer": "ipython3",
   "version": "3.11.3"
  }
 },
 "nbformat": 4,
 "nbformat_minor": 5
}
