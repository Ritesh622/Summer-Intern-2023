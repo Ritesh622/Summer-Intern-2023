{
 "cells": [
  {
   "cell_type": "code",
   "execution_count": 1,
   "id": "68f30b63",
   "metadata": {},
   "outputs": [],
   "source": [
    "import numpy as np\n",
    "import random\n",
    "import matplotlib.pyplot as plt "
   ]
  },
  {
   "cell_type": "code",
   "execution_count": 2,
   "id": "a47e9c32",
   "metadata": {},
   "outputs": [],
   "source": [
    "def get_array(d):\n",
    "    while True:\n",
    "        arr = np.random.randn(d,)\n",
    "        norm= np.linalg.norm(arr)\n",
    "        if norm <= 1:\n",
    "            return list(arr)"
   ]
  },
  {
   "cell_type": "code",
   "execution_count": 3,
   "id": "05e2105e",
   "metadata": {},
   "outputs": [],
   "source": [
    "x=[]\n",
    "n=2\n",
    "d=4\n",
    "\n",
    "for _ in range(n):\n",
    "    z=get_array(d)\n",
    "    x.append(z)\n",
    "x_mean=np.mean(x,axis=0)\n",
    "\n",
    "#print(x)\n",
    "#x_mean list represents average of x in each client\n",
    "#print(x_mean)"
   ]
  },
  {
   "cell_type": "code",
   "execution_count": 4,
   "id": "a4901336",
   "metadata": {},
   "outputs": [],
   "source": [
    "def loss_k_biased(k1):\n",
    "    loss_biased=0\n",
    "    for _ in range(1):\n",
    "        Y_biased=[]\n",
    "        k=k1\n",
    "        sum_est_mean_biased=0\n",
    "        sum_est_biased=0\n",
    "        sum1=0\n",
    "\n",
    "        for i in range(n):\n",
    "            u=x[i]\n",
    "            x_min=min(u)\n",
    "            x_max=max(u)\n",
    "        #   print(u)\n",
    "        #   print(x_max,\"\\n\")\n",
    "            s=x_max-x_min\n",
    "            y_biased=[]\n",
    "            B_biased_=np.linspace(x_min,x_max,num=k)\n",
    "            #B represents the different levels of quantization\n",
    "            v=np.searchsorted(B_biased_,u,side='right')-1     \n",
    "            #B(v), v is list of indices of B(r)\n",
    "            B=np.append(B_biased_,0)\n",
    "            #print(v)\n",
    "\n",
    "            for j in range(d):\n",
    "                #B[j]=B(r)\n",
    "                r=v[j]\n",
    "                z=B[r]\n",
    "                w=B[r+1]\n",
    "\n",
    "            #   print(w)\n",
    "            #   print(z,\"\\n\")\n",
    "                p=(u[j]-z)/(w-z)\n",
    "                #print(p)\n",
    "                l=z\n",
    "                m=w\n",
    "\n",
    "                y_est_biased=random.choices([m,l],[p,1-p])[0]\n",
    "                y_biased.append(y_est_biased)\n",
    "                sum1 +=(x_max-u[j])*(u[j]-x_min)\n",
    "            Y_biased.append(y_biased)\n",
    "\n",
    "        error_array_biased=np.subtract(np.mean(Y_biased,axis=0),x_mean)\n",
    "        #print(error)\n",
    "        #print(x_mean_est)\n",
    "        loss_biased+=(np.linalg.norm(error_array_biased))**2\n",
    "    return (loss_biased/1),(sum1/n**2)\n",
    "                     "
   ]
  },
  {
   "cell_type": "code",
   "execution_count": 5,
   "id": "9f76a296",
   "metadata": {},
   "outputs": [
    {
     "name": "stdout",
     "output_type": "stream",
     "text": [
      "0.133264127980141\n",
      "0.09674653354722737\n"
     ]
    }
   ],
   "source": [
    "losses_biased=[]\n",
    "for k in range(1,2):\n",
    "    losses_biased,theoretical_error=loss_k_biased(k)\n",
    "    print(losses_biased)\n",
    "    print(theoretical_error)"
   ]
  },
  {
   "cell_type": "code",
   "execution_count": 6,
   "id": "2bc54429",
   "metadata": {},
   "outputs": [],
   "source": [
    "# plt.plot(range(1,3),np.log(losses_biased),color=\"g\")\n",
    "# plt.xlabel(\"K\")\n",
    "# plt.ylabel(\"MSE\")"
   ]
  },
  {
   "cell_type": "code",
   "execution_count": null,
   "id": "c375bd6a",
   "metadata": {},
   "outputs": [],
   "source": []
  },
  {
   "cell_type": "code",
   "execution_count": null,
   "id": "ebca90f6",
   "metadata": {},
   "outputs": [],
   "source": []
  }
 ],
 "metadata": {
  "kernelspec": {
   "display_name": "Python 3 (ipykernel)",
   "language": "python",
   "name": "python3"
  },
  "language_info": {
   "codemirror_mode": {
    "name": "ipython",
    "version": 3
   },
   "file_extension": ".py",
   "mimetype": "text/x-python",
   "name": "python",
   "nbconvert_exporter": "python",
   "pygments_lexer": "ipython3",
   "version": "3.11.3"
  }
 },
 "nbformat": 4,
 "nbformat_minor": 5
}
