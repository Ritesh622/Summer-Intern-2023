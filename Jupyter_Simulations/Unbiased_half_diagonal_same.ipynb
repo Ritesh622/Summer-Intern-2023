{
 "cells": [
  {
   "cell_type": "code",
   "execution_count": 1,
   "id": "2cc7806d",
   "metadata": {},
   "outputs": [],
   "source": [
    "import random\n",
    "import numpy as np\n",
    "import matplotlib.pyplot as plt\n",
    "from scipy.linalg import hadamard as hd\n",
    "from scipy.stats import bernoulli as bn"
   ]
  },
  {
   "cell_type": "code",
   "execution_count": 2,
   "id": "07a079b1",
   "metadata": {},
   "outputs": [],
   "source": [
    "def get_array(d):\n",
    "#     while True:\n",
    "    arr = np.random.randn(d,)\n",
    "#         norm= np.linalg.norm(arr)\n",
    "#         if norm <= 1:\n",
    "    return list(arr/3)"
   ]
  },
  {
   "cell_type": "code",
   "execution_count": 3,
   "id": "506f4860",
   "metadata": {},
   "outputs": [],
   "source": [
    "def get_x(n,d):\n",
    "    x=[]\n",
    "    for _ in range(n):\n",
    "        z=get_array(d)\n",
    "        x.append(z)\n",
    "    return x\n",
    "#x_mean list represents average of x in each client\n"
   ]
  },
  {
   "cell_type": "code",
   "execution_count": 4,
   "id": "d3bc0266",
   "metadata": {},
   "outputs": [],
   "source": [
    "def R(d):\n",
    "    fixed_diagonal_elements=np.ones(d//2)\n",
    "    r=bn.rvs(0.5,size=(d//2))\n",
    "    changing_diagonal_elements=2*r-1\n",
    "    diagonal_elements=np.concatenate((fixed_diagonal_elements,changing_diagonal_elements),axis=None)\n",
    "    D=np.diag(diagonal_elements)\n",
    "    H=hd(d)\n",
    "    R=np.matmul(H,D)\n",
    "    return R"
   ]
  },
  {
   "cell_type": "code",
   "execution_count": 5,
   "id": "fd11ed19",
   "metadata": {},
   "outputs": [
    {
     "name": "stdout",
     "output_type": "stream",
     "text": [
      "[[ 1.  1.  1. ... -1. -1.  1.]\n",
      " [ 1. -1.  1. ...  1. -1. -1.]\n",
      " [ 1.  1. -1. ... -1.  1. -1.]\n",
      " ...\n",
      " [ 1. -1.  1. ... -1.  1.  1.]\n",
      " [ 1.  1. -1. ...  1. -1.  1.]\n",
      " [ 1. -1. -1. ... -1. -1. -1.]]\n"
     ]
    }
   ],
   "source": [
    "n=16\n",
    "d=512\n",
    "iters=20\n",
    "x1 = get_x(n,d)\n",
    "x=np.transpose(x1)\n",
    "R=R(d)\n",
    "print(R)\n",
    "z1=np.matmul(R,x)\n",
    "z=np.transpose(z1)\n",
    "R_inv=np.linalg.inv(R)\n",
    "x_mean=np.mean(x1,axis=0)\n",
    "# print(np.mean(x1,axis=0))\n",
    "# print(x_mean)"
   ]
  },
  {
   "cell_type": "code",
   "execution_count": 6,
   "id": "c040b54f",
   "metadata": {},
   "outputs": [],
   "source": [
    "def encoder(x,n,d,k):\n",
    "    B=[]\n",
    "    v=[]\n",
    "    for i in range(n):\n",
    "        u=x[i]\n",
    "        x_min=np.min(u)\n",
    "        x_max=np.max(u)\n",
    "        s=x_max-x_min\n",
    "        B_=np.linspace(x_min,x_max,num=k)\n",
    "        v_=np.searchsorted(B_,u,side='right')-1   \n",
    "        v.append(v_.tolist())\n",
    "        B_client=np.append(B_,0)\n",
    "        B.append(B_client.tolist())\n",
    "        \n",
    "    return B,v"
   ]
  },
  {
   "cell_type": "code",
   "execution_count": 7,
   "id": "f89344c3",
   "metadata": {},
   "outputs": [],
   "source": [
    "def decoder(B,v,x,d):\n",
    "    Y=[]\n",
    "    sum1=0\n",
    "    for i in range(n):\n",
    "        u=x[i]\n",
    "        x_max=np.max(u)\n",
    "        x_min=np.min(u)\n",
    "        y=[]\n",
    "        for j in range(d):\n",
    "            #B[j]=B(r)\n",
    "            y_est=0\n",
    "            r=v[i][j]\n",
    "            q=B[i][r]\n",
    "            w=B[i][r+1]\n",
    "            p=(u[j]-q)/(w-q)     \n",
    "        \n",
    "            y_est=random.choices([w,q],[p,1-p])[0]\n",
    "            y.append(y_est)   \n",
    "        Y.append(y)\n",
    "    return Y"
   ]
  },
  {
   "cell_type": "code",
   "execution_count": 8,
   "id": "7d2f0e9b",
   "metadata": {},
   "outputs": [],
   "source": [
    "def loss_k(k1):\n",
    "    loss=0\n",
    "\n",
    "    k=2**k1\n",
    "    for _ in range(iters):\n",
    "        \n",
    "        B,v=encoder(x1,n,d,k)\n",
    "        #print(B,v)\n",
    "        Y=decoder(B,v,x1,d)\n",
    "\n",
    "        x_mean_est=np.mean(Y,axis=0)\n",
    "        error=np.subtract(x_mean_est,x_mean)\n",
    "        loss+=(np.linalg.norm(error))**2\n",
    "    return (loss/iters)"
   ]
  },
  {
   "cell_type": "code",
   "execution_count": 9,
   "id": "9521cad7",
   "metadata": {},
   "outputs": [],
   "source": [
    "def encoder_rotation(z,n,d,k):\n",
    "    B=[]\n",
    "    v=[]\n",
    "    for i in range(n):\n",
    "        u=z[i]\n",
    "        z_min=np.min(u)\n",
    "        z_max=np.max(u)\n",
    "        s=z_max-z_min\n",
    "        B_=np.linspace(z_min,z_max,num=k)\n",
    "        v_=np.searchsorted(B_,u,side='right')-1   \n",
    "        v.append(v_.tolist())\n",
    "        B_client=np.append(B_,0)\n",
    "        B.append(B_client.tolist())\n",
    "    \n",
    "    #print(B,\"\\n\",v)    \n",
    "    return B,v"
   ]
  },
  {
   "cell_type": "code",
   "execution_count": 10,
   "id": "fa6729ba",
   "metadata": {},
   "outputs": [],
   "source": [
    "def decoder_rotation(B,v,z,d):\n",
    "    Y=[]\n",
    "    sum1=0\n",
    "    for i in range(n):\n",
    "        u=z[i]\n",
    "        z_max=np.max(u)\n",
    "        z_min=np.min(u)\n",
    "        y=[]\n",
    "        for j in range(d):\n",
    "            #B[j]=B(r)\n",
    "            y_est=0\n",
    "            r=v[i][j]\n",
    "            q=B[i][r]\n",
    "            w=B[i][r+1]\n",
    "            p=(u[j]-q)/(w-q)\n",
    "    \n",
    "            y_est=random.choices([w,q],[p,1-p])[0]\n",
    "            y.append(y_est)   \n",
    "        Y.append(y)\n",
    "    return Y"
   ]
  },
  {
   "cell_type": "code",
   "execution_count": 11,
   "id": "6f0e4205",
   "metadata": {},
   "outputs": [],
   "source": [
    "def loss_k_rotation(k1):\n",
    "    loss=0\n",
    "    k=2**k1\n",
    "    for _ in range(iters):\n",
    "\n",
    "        B,v=encoder_rotation(z,n,d,k)\n",
    "        #print(B,v)\n",
    "        Y=decoder_rotation(B,v,z,d)\n",
    "\n",
    "        x_mean_est_rotated=np.mean(Y,axis=0)\n",
    "        x_mean_est=np.matmul(R_inv,x_mean_est_rotated)\n",
    "        \n",
    "        error=np.subtract(x_mean_est,x_mean)\n",
    "        \n",
    "        loss+=(np.linalg.norm(error))**2\n",
    "    return (loss/iters)"
   ]
  },
  {
   "cell_type": "code",
   "execution_count": 12,
   "id": "2f847b3f",
   "metadata": {},
   "outputs": [],
   "source": [
    "losses=[]\n",
    "losses_rotation=[]\n",
    "for k in range(1,10):\n",
    "    #print(x)\n",
    "    loss_rotation=loss_k_rotation(k)\n",
    "    loss=loss_k(k)\n",
    "    losses_rotation.append(loss_rotation)\n",
    "    losses.append(loss)\n",
    "   "
   ]
  },
  {
   "cell_type": "code",
   "execution_count": 13,
   "id": "7333c669",
   "metadata": {},
   "outputs": [
    {
     "name": "stdout",
     "output_type": "stream",
     "text": [
      "[30.365628613770014, 2.560459502587604, 0.45918379511467, 0.09964731377863041, 0.023948554120041977, 0.005888021625929332, 0.0014075296878885884, 0.0003417388808067389, 8.598779310611884e-05]\n",
      "[32.431109422934064, 2.7321429460347, 0.49120676263160723, 0.10850721804941474, 0.025648506411431786, 0.006347195544862044, 0.0014740491556188631, 0.0003766606704281846, 9.548293781135663e-05]\n"
     ]
    }
   ],
   "source": [
    "print(losses_rotation)\n",
    "print(losses)"
   ]
  },
  {
   "cell_type": "code",
   "execution_count": 17,
   "id": "5f15de8a",
   "metadata": {},
   "outputs": [
    {
     "data": {
      "image/png": "[encoded data removed]",
      "text/plain": [
       "<Figure size 640x480 with 1 Axes>"
      ]
     },
     "metadata": {},
     "output_type": "display_data"
    }
   ],
   "source": [
    "plt.plot(2**np.arange(1,10),np.log(losses),color=\"orange\",label='Unbiased Losses')\n",
    "plt.plot(2**np.arange(1,10),np.log(losses_rotation),color=\"g\",label='Unbiased Half Diagonal Losses')\n",
    "plt.xlabel(\"K (levels of quantization)\")\n",
    "plt.ylabel(\"MSE\")\n",
    "plt.legend()\n",
    "plt.savefig(\"MSE_Unbiased_vs_Unbiased_Half_Diagonal.pdf\")\n"
   ]
  },
  {
   "cell_type": "code",
   "execution_count": null,
   "id": "f40d72f3",
   "metadata": {},
   "outputs": [],
   "source": []
  }
 ],
 "metadata": {
  "kernelspec": {
   "display_name": "Python 3 (ipykernel)",
   "language": "python",
   "name": "python3"
  },
  "language_info": {
   "codemirror_mode": {
    "name": "ipython",
    "version": 3
   },
   "file_extension": ".py",
   "mimetype": "text/x-python",
   "name": "python",
   "nbconvert_exporter": "python",
   "pygments_lexer": "ipython3",
   "version": "3.11.3"
  }
 },
 "nbformat": 4,
 "nbformat_minor": 5
}
